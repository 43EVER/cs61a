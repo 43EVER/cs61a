{
 "cells": [
  {
   "cell_type": "code",
   "execution_count": 7,
   "metadata": {},
   "outputs": [
    {
     "name": "stdout",
     "output_type": "stream",
     "text": [
      "33505\n"
     ]
    }
   ],
   "source": [
    "from urllib.request import urlopen\n",
    "\n",
    "shake = urlopen('http://composingprograms.com/shakespeare.txt')\n",
    "\n",
    "words = set(shake.read().decode().split())\n",
    "\n",
    "print(len(words))"
   ]
  },
  {
   "cell_type": "markdown",
   "metadata": {},
   "source": [
    "# wow\n",
    "That't so fucking crazy"
   ]
  },
  {
   "cell_type": "code",
   "execution_count": 2,
   "metadata": {},
   "outputs": [
    {
     "name": "stdout",
     "output_type": "stream",
     "text": [
      "2\n"
     ]
    }
   ],
   "source": [
    "x=1\n",
    "x=2\n",
    "print(x)"
   ]
  },
  {
   "cell_type": "code",
   "execution_count": 32,
   "metadata": {},
   "outputs": [],
   "source": [
    "def my_compose(*funcs):\n",
    "    if len(funcs) < 1:\n",
    "        return identity\n",
    "    func = funcs[0]\n",
    "    return lambda x:func(my_compose(*funcs[1:])(x))"
   ]
  },
  {
   "cell_type": "code",
   "execution_count": 34,
   "metadata": {},
   "outputs": [
    {
     "name": "stdout",
     "output_type": "stream",
     "text": [
      "81\n"
     ]
    }
   ],
   "source": [
    "squre = lambda x:x*x\n",
    "identity = lambda x:x\n",
    "triple = lambda x:x*3\n",
    "\n",
    "fuck = my_compose(squre, triple)\n",
    "print(fuck(3))"
   ]
  },
  {
   "cell_type": "code",
   "execution_count": 1,
   "metadata": {},
   "outputs": [
    {
     "name": "stdout",
     "output_type": "stream",
     "text": [
      "2\n"
     ]
    }
   ],
   "source": [
    "def cury2(fun):\n",
    "    if fun.__code__.co_argcount < 1:\n",
    "        return fun\n",
    "    return lambda x: \n",
    "\n",
    "cury2(lambda x, y: 0)"
   ]
  },
  {
   "cell_type": "code",
   "execution_count": 7,
   "metadata": {},
   "outputs": [],
   "source": [
    "def trace(f):\n",
    "    def func(x):\n",
    "        result = f(x)\n",
    "        print('{} -> {}'.format(x, result))\n",
    "        return result\n",
    "    return func\n",
    "\n",
    "@trace\n",
    "def squre(x):\n",
    "    return x*x\n",
    "\n",
    "def digits(x):\n",
    "    if x < 10:\n",
    "        return 1\n",
    "    return 1 + digits(x // 10)\n",
    "\n",
    "@trace\n",
    "def reverse(x):\n",
    "    if x < 10:\n",
    "        return x\n",
    "    return reverse(x // 10) + (x % 10) * (10 ** digits(x // 10))"
   ]
  },
  {
   "cell_type": "code",
   "execution_count": 8,
   "metadata": {},
   "outputs": [
    {
     "name": "stdout",
     "output_type": "stream",
     "text": [
      "1 -> 1\n",
      "12 -> 3\n",
      "123 -> 33\n"
     ]
    },
    {
     "data": {
      "text/plain": [
       "33"
      ]
     },
     "execution_count": 8,
     "metadata": {},
     "output_type": "execute_result"
    }
   ],
   "source": [
    "reverse(123)"
   ]
  }
 ],
 "metadata": {
  "interpreter": {
   "hash": "916dbcbb3f70747c44a77c7bcd40155683ae19c65e1c03b4aa3499c5328201f1"
  },
  "kernelspec": {
   "display_name": "Python 3.8.10 64-bit",
   "language": "python",
   "name": "python3"
  },
  "language_info": {
   "codemirror_mode": {
    "name": "ipython",
    "version": 3
   },
   "file_extension": ".py",
   "mimetype": "text/x-python",
   "name": "python",
   "nbconvert_exporter": "python",
   "pygments_lexer": "ipython3",
   "version": "3.8.10"
  },
  "orig_nbformat": 4
 },
 "nbformat": 4,
 "nbformat_minor": 2
}
